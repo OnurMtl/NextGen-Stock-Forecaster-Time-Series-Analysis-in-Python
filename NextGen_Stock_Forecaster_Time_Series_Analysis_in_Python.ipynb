{
  "nbformat": 4,
  "nbformat_minor": 0,
  "metadata": {
    "colab": {
      "provenance": []
    },
    "kernelspec": {
      "name": "python3",
      "display_name": "Python 3"
    },
    "language_info": {
      "name": "python"
    }
  },
  "cells": [
    {
      "cell_type": "code",
      "execution_count": 1,
      "metadata": {
        "id": "JBGwY3Mv5aHu"
      },
      "outputs": [],
      "source": [
        "import yfinance as yf\n",
        "import pandas as pd\n",
        "from statsmodels.tsa.arima_model import ARIMA\n",
        "import matplotlib.pyplot as plt\n"
      ]
    },
    {
      "cell_type": "code",
      "source": [
        "# Step 1: Data Fetching\n",
        "stock = yf.Ticker(\"AAPL\")  # Apple Inc. stock symbol; replace with any stock of interest\n",
        "data = stock.history(period=\"1y\")  # Fetching 1 year of historical data"
      ],
      "metadata": {
        "id": "NgWTImTU5e_4"
      },
      "execution_count": 2,
      "outputs": []
    },
    {
      "cell_type": "code",
      "source": [
        "# Step 2: Data Preprocessing\n",
        "data = data.dropna()\n",
        "data = data['Close']  # Focusing on the closing prices\n"
      ],
      "metadata": {
        "id": "cfDqGDU75rad"
      },
      "execution_count": 3,
      "outputs": []
    },
    {
      "cell_type": "code",
      "source": [
        "# Step 3: Exploratory Data Analysis (EDA)\n",
        "# Plotting the closing prices\n",
        "plt.figure(figsize=(10, 6))\n",
        "data.plot(title='Historical Closing Prices')\n",
        "plt.ylabel('Price')\n",
        "plt.show()"
      ],
      "metadata": {
        "id": "DxUlaK8T5wzP"
      },
      "execution_count": null,
      "outputs": []
    },
    {
      "cell_type": "code",
      "source": [
        "# Suppress warnings for model simplicity in this example\n",
        "warnings.filterwarnings(\"ignore\")"
      ],
      "metadata": {
        "id": "UopgLsdE69wL"
      },
      "execution_count": 14,
      "outputs": []
    },
    {
      "cell_type": "code",
      "source": [
        "# Making the series stationary\n",
        "data_diff = data.diff().dropna()"
      ],
      "metadata": {
        "id": "uXF8nAuG6ZR7"
      },
      "execution_count": 15,
      "outputs": []
    },
    {
      "cell_type": "code",
      "source": [
        "# Initializing the ARIMA model\n",
        "# Note: (p, d, q) values can be determined using statistical tests like ACF and PACF plots\n",
        "model = ARIMA(data_diff, order=(1, 1, 1))  # Example parameters, can be tuned\n",
        "model_fit = model.fit()"
      ],
      "metadata": {
        "id": "Cl5W1qfS7DAm"
      },
      "execution_count": 16,
      "outputs": []
    }
  ]
}